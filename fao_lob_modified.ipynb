{
 "cells": [
  {
   "cell_type": "code",
   "execution_count": null,
   "metadata": {},
   "outputs": [],
   "source": [
    "import fao1\n",
    "import fao2\n",
    "import pandas as pd\n",
    "import os\n",
    "import shutil\n",
    "datelist = pd.date_range(start='02/02/2020',end ='02/02/2021').strftime('%d%m%Y').tolist()\n",
    "if __name__ ==  '__main__':\n",
    "    for i in range(len(datelist)):\n",
    "        if os.path.isfile(\"FAO_Trades_%s.DAT.gz\"%datelist[i]) == False:\n",
    "            continue\n",
    "        else:    \n",
    "            fao1.myfunc(datelist[i])\n",
    "            fao2.myfunc(datelist[i])\n",
    "            shutil.rmtree(\"tempDir\")\n",
    "            "
   ]
  },
  {
   "cell_type": "code",
   "execution_count": null,
   "metadata": {},
   "outputs": [],
   "source": []
  },
  {
   "cell_type": "code",
   "execution_count": null,
   "metadata": {},
   "outputs": [],
   "source": []
  }
 ],
 "metadata": {
  "kernelspec": {
   "display_name": "Python 3",
   "language": "python",
   "name": "python3"
  },
  "language_info": {
   "codemirror_mode": {
    "name": "ipython",
    "version": 3
   },
   "file_extension": ".py",
   "mimetype": "text/x-python",
   "name": "python",
   "nbconvert_exporter": "python",
   "pygments_lexer": "ipython3",
   "version": "3.8.5"
  }
 },
 "nbformat": 4,
 "nbformat_minor": 2
}
